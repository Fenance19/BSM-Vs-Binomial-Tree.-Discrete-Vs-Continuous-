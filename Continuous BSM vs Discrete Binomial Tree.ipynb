{
 "cells": [
  {
   "cell_type": "code",
   "execution_count": 7,
   "id": "a6c5c747-ea84-435a-ab00-bdb5af6c843d",
   "metadata": {},
   "outputs": [
    {
     "name": "stdout",
     "output_type": "stream",
     "text": [
      "1-Step Binomial Call Option Price: 7.19\n"
     ]
    }
   ],
   "source": [
    "import numpy as np\n",
    "import pandas as pd \n",
    "import matplotlib.pyplot as plt\n",
    "\n",
    "# Parameters\n",
    "S0 = 100      # Initial stock price\n",
    "K = 100       # Strike price\n",
    "u = 1.1       # Up factor\n",
    "d = 0.9       # Down factor\n",
    "r = 0.05      # Risk-free rate\n",
    "T = 1         # Time to maturity (1 year)\n",
    "\n",
    "# Risk-neutral probability\n",
    "p = (np.exp(r * T) - d) / (u - d)\n",
    "\n",
    "# Payoffs at maturity\n",
    "Su = S0 * u\n",
    "Sd = S0 * d\n",
    "Cu = max(Su - K, 0)\n",
    "Cd = max(Sd - K, 0)\n",
    "\n",
    "# Present value of expected payoff\n",
    "C0 = np.exp(-r * T) * (p * Cu + (1 - p) * Cd)\n",
    "\n",
    "print(f\"1-Step Binomial Call Option Price: {C0:.2f}\")\n"
   ]
  },
  {
   "cell_type": "markdown",
   "id": "552209f5-e7aa-45d2-b036-d2ce13051755",
   "metadata": {},
   "source": [
    "no arbitrage, frictionless markets, discrete steps, constant volatility."
   ]
  },
  {
   "cell_type": "code",
   "execution_count": 9,
   "id": "f6ce8925-98b4-4b8d-a9e1-3e558404cb79",
   "metadata": {},
   "outputs": [
    {
     "name": "stdout",
     "output_type": "stream",
     "text": [
      "5-Step Binomial Call Price: 11.66\n"
     ]
    }
   ],
   "source": [
    "def binomial_call_option(S0, K, T, r, u, d, N):\n",
    "    dt = T / N\n",
    "    p = (np.exp(r * dt) - d) / (u - d)\n",
    "    \n",
    "    # Stock prices at maturity\n",
    "    ST = np.array([S0 * (u**j) * (d**(N - j)) for j in range(N + 1)])\n",
    "    \n",
    "    # Option values at maturity\n",
    "    C = np.maximum(ST - K, 0)\n",
    "    \n",
    "    # Backward induction\n",
    "    for i in range(N - 1, -1, -1):\n",
    "        C = np.exp(-r * dt) * (p * C[1:i+2] + (1 - p) * C[0:i+1])\n",
    "    \n",
    "    return C[0]\n",
    "\n",
    "# Example with 5 steps\n",
    "binom_price = binomial_call_option(S0=100, K=100, T=1, r=0.05, u=1.1, d=0.9, N=5)\n",
    "print(f\"5-Step Binomial Call Price: {binom_price:.2f}\")\n"
   ]
  },
  {
   "cell_type": "markdown",
   "id": "6adfa2a8-2bc4-48e7-a99c-7397d19465ae",
   "metadata": {},
   "source": [
    "Binomial converges to Black-Scholes as N → ∞"
   ]
  },
  {
   "cell_type": "code",
   "execution_count": 11,
   "id": "12245123-9ed0-4af2-b38f-0a704d6c1821",
   "metadata": {},
   "outputs": [
    {
     "name": "stdout",
     "output_type": "stream",
     "text": [
      "Black-Scholes Call Price: 10.45\n"
     ]
    }
   ],
   "source": [
    "from scipy.stats import norm\n",
    "\n",
    "def black_scholes_call(S, K, T, r, sigma):\n",
    "    d1 = (np.log(S / K) + (r + 0.5 * sigma**2) * T) / (sigma * np.sqrt(T))\n",
    "    d2 = d1 - sigma * np.sqrt(T)\n",
    "    \n",
    "    call = S * norm.cdf(d1) - K * np.exp(-r * T) * norm.cdf(d2)\n",
    "    return call\n",
    "\n",
    "# Example Black-Scholes price\n",
    "bs_price = black_scholes_call(S=100, K=100, T=1, r=0.05, sigma=0.2)\n",
    "print(f\"Black-Scholes Call Price: {bs_price:.2f}\")\n"
   ]
  },
  {
   "cell_type": "markdown",
   "id": "b31ae9a9-f1b1-46d3-b2a8-3cb50e5e03ca",
   "metadata": {},
   "source": [
    "assumptions of Black-Scholes: continuous trading, lognormal distribution, constant volatility, no dividends, no transaction costs."
   ]
  },
  {
   "cell_type": "code",
   "execution_count": 14,
   "id": "78983d26-32cb-48b6-8312-91d5ac07c502",
   "metadata": {},
   "outputs": [
    {
     "data": {
      "text/html": [
       "<div>\n",
       "<style scoped>\n",
       "    .dataframe tbody tr th:only-of-type {\n",
       "        vertical-align: middle;\n",
       "    }\n",
       "\n",
       "    .dataframe tbody tr th {\n",
       "        vertical-align: top;\n",
       "    }\n",
       "\n",
       "    .dataframe thead th {\n",
       "        text-align: right;\n",
       "    }\n",
       "</style>\n",
       "<table border=\"1\" class=\"dataframe\">\n",
       "  <thead>\n",
       "    <tr style=\"text-align: right;\">\n",
       "      <th></th>\n",
       "      <th>Steps</th>\n",
       "      <th>Binomial Price</th>\n",
       "      <th>Black-Scholes Price</th>\n",
       "    </tr>\n",
       "  </thead>\n",
       "  <tbody>\n",
       "    <tr>\n",
       "      <th>0</th>\n",
       "      <td>1</td>\n",
       "      <td>7.194676</td>\n",
       "      <td>10.450584</td>\n",
       "    </tr>\n",
       "    <tr>\n",
       "      <th>1</th>\n",
       "      <td>5</td>\n",
       "      <td>11.663077</td>\n",
       "      <td>10.450584</td>\n",
       "    </tr>\n",
       "    <tr>\n",
       "      <th>2</th>\n",
       "      <td>25</td>\n",
       "      <td>21.792817</td>\n",
       "      <td>10.450584</td>\n",
       "    </tr>\n",
       "    <tr>\n",
       "      <th>3</th>\n",
       "      <td>100</td>\n",
       "      <td>39.984892</td>\n",
       "      <td>10.450584</td>\n",
       "    </tr>\n",
       "    <tr>\n",
       "      <th>4</th>\n",
       "      <td>500</td>\n",
       "      <td>74.408354</td>\n",
       "      <td>10.450584</td>\n",
       "    </tr>\n",
       "  </tbody>\n",
       "</table>\n",
       "</div>"
      ],
      "text/plain": [
       "   Steps  Binomial Price  Black-Scholes Price\n",
       "0      1        7.194676            10.450584\n",
       "1      5       11.663077            10.450584\n",
       "2     25       21.792817            10.450584\n",
       "3    100       39.984892            10.450584\n",
       "4    500       74.408354            10.450584"
      ]
     },
     "execution_count": 14,
     "metadata": {},
     "output_type": "execute_result"
    }
   ],
   "source": [
    "prices = []\n",
    "\n",
    "for N in [1, 5, 25, 100, 500]:\n",
    "    price = binomial_call_option(S0=100, K=100, T=1, r=0.05, u=1.1, d=0.9, N=N)\n",
    "    prices.append((N, price))\n",
    "\n",
    "bs = black_scholes_call(100, 100, 1, 0.05, sigma=0.2)\n",
    "\n",
    "comparison_df = pd.DataFrame(prices, columns=[\"Steps\", \"Binomial Price\"])\n",
    "comparison_df[\"Black-Scholes Price\"] = bs\n",
    "comparison_df\n"
   ]
  },
  {
   "cell_type": "markdown",
   "id": "939b66ff-4437-4054-b393-6b9bf4062316",
   "metadata": {},
   "source": [
    "now watch! binomial prices converge to BS price as steps increase."
   ]
  },
  {
   "cell_type": "code",
   "execution_count": 17,
   "id": "a163893f-604c-4a5f-8e1c-e8e605fb3859",
   "metadata": {},
   "outputs": [
    {
     "data": {
      "image/png": "[encoded data removed]",
      "text/plain": [
       "<Figure size 1000x500 with 1 Axes>"
      ]
     },
     "metadata": {},
     "output_type": "display_data"
    }
   ],
   "source": [
    "Ns = np.arange(1, 200)\n",
    "bin_prices = [binomial_call_option(100, 100, 1, 0.05, 1.1, 0.9, N) for N in Ns]\n",
    "bs_price = black_scholes_call(100, 100, 1, 0.05, 0.2)\n",
    "\n",
    "plt.figure(figsize=(10, 5))\n",
    "plt.plot(Ns, bin_prices, label=\"Binomial Price\", lw=2)\n",
    "plt.axhline(bs_price, color='black', linestyle='--', label=\"Black-Scholes Price\")\n",
    "plt.xlabel(\"Steps (N)\")\n",
    "plt.ylabel(\"Option Price\")\n",
    "plt.title(\"Binomial Model Convergence to Black-Scholes\")\n",
    "plt.legend()\n",
    "plt.grid(True)\n",
    "plt.show()\n"
   ]
  },
  {
   "cell_type": "markdown",
   "id": "434d94c9-cd08-4015-81a3-6327e282b6b4",
   "metadata": {},
   "source": [
    "Even though both models hold steadfast in the assumption of constant volitlity, we observe the shift fron \"Discrete Price Steps/Paths\" to a more closed form continous model with the BSM model. Similarities which lead to convergence."
   ]
  },
  {
   "cell_type": "code",
   "execution_count": null,
   "id": "58399c11-b38d-47bd-821c-6af3b76e00f2",
   "metadata": {},
   "outputs": [],
   "source": []
  }
 ],
 "metadata": {
  "kernelspec": {
   "display_name": "Python [conda env:base] *",
   "language": "python",
   "name": "conda-base-py"
  },
  "language_info": {
   "codemirror_mode": {
    "name": "ipython",
    "version": 3
   },
   "file_extension": ".py",
   "mimetype": "text/x-python",
   "name": "python",
   "nbconvert_exporter": "python",
   "pygments_lexer": "ipython3",
   "version": "3.12.9"
  }
 },
 "nbformat": 4,
 "nbformat_minor": 5
}
